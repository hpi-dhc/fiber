{
 "cells": [
  {
   "cell_type": "code",
   "execution_count": null,
   "metadata": {},
   "outputs": [],
   "source": [
    "%load_ext autoreload\n",
    "%autoreload 2"
   ]
  },
  {
   "cell_type": "code",
   "execution_count": null,
   "metadata": {},
   "outputs": [],
   "source": [
    "import sqlparse\n",
    "import pandas as pd\n",
    "from sqlalchemy import func, text"
   ]
  },
  {
   "cell_type": "code",
   "execution_count": null,
   "metadata": {},
   "outputs": [],
   "source": [
    "from fiber.database.table import (\n",
    "    fact,\n",
    "    fd_diag,\n",
    "    fd_proc,\n",
    "    d_pers,\n",
    ")\n",
    "from fiber.database.hana import engine, Session\n",
    "from fiber.cohort import Cohort\n",
    "from fiber.clauses import Procedure, Diagnosis, BaseClause"
   ]
  },
  {
   "cell_type": "code",
   "execution_count": null,
   "metadata": {},
   "outputs": [],
   "source": [
    "session = Session()\n",
    "\n",
    "heart_surgery_cohort = Cohort(session,\n",
    "    (\n",
    "        Procedure('35.%') | Procedure('36.1%')\n",
    "    ) &\n",
    "    BaseClause(fact.AGE_IN_DAYS > 365 * 18)\n",
    "#     BaseClause(fact.AGE_IN_DAYS > 365 * 18) &\n",
    "#     Diagnosis('584.9')\n",
    ")\n",
    "\n",
    "aki_cohort = Cohort(session,\n",
    "    Diagnosis('584.9')\n",
    ")\n",
    "aki_cohort.med_rec_numbers.count()"
   ]
  },
  {
   "cell_type": "code",
   "execution_count": null,
   "metadata": {},
   "outputs": [],
   "source": [
    "print(sqlparse.format(str(heart_surgery_cohort.med_rec_numbers.statement), reindent=True))\n",
    "number_of_patients = heart_surgery_cohort.med_rec_numbers.count()\n",
    "\n",
    "print(f'Current number of qualifying patients {number_of_patients}')\n",
    "print(f'Estimated total (0.9 bil of 2.4 bil facts ingested: {int(number_of_patients * 24/9)}')"
   ]
  },
  {
   "cell_type": "code",
   "execution_count": null,
   "metadata": {},
   "outputs": [],
   "source": [
    "procedures = pd.read_sql(\n",
    "    heart_surgery_cohort.query.with_entities(\n",
    "        fd_proc.CONTEXT_PROCEDURE_CODE, fd_proc.PROCEDURE_DESCRIPTION, func.count(func.distinct(d_pers.MEDICAL_RECORD_NUMBER)).label('count')\n",
    "    ).group_by(fd_proc.CONTEXT_PROCEDURE_CODE, fd_proc.PROCEDURE_DESCRIPTION).order_by(text('count DESC')).statement,\n",
    "    engine\n",
    ")\n"
   ]
  },
  {
   "cell_type": "code",
   "execution_count": null,
   "metadata": {},
   "outputs": [],
   "source": [
    "procedures['label'] = procedures[['procedure_description', 'context_procedure_code']].apply(lambda x: f'{x[0]} ({x[1]})', axis=1)\n",
    "ax = procedures[0:20].plot(x='label', y='count', kind=\"bar\")\n",
    "xlabels = ax.get_xticklabels()\n",
    "ax.set_xticklabels(xlabels, rotation=40, ha='right')\n",
    "title = ax.set_title(f'Top 20 procedures for {number_of_patients} patients')"
   ]
  },
  {
   "cell_type": "code",
   "execution_count": null,
   "metadata": {},
   "outputs": [],
   "source": [
    "engine.execute('SET SCHEMA MSDW_2018')\n",
    "\n",
    "aki = pd.read_sql(\n",
    "    \"\"\"\n",
    "    SELECT fd.CONTEXT_DIAGNOSIS_CODE, COUNT(DISTINCT dp.MEDICAL_RECORD_NUMBER) count\n",
    "    FROM FD_DIAGNOSIS fd \n",
    "    JOIN B_DIAGNOSIS b\n",
    "        ON fd.DIAGNOSIS_KEY = b.DIAGNOSIS_KEY\n",
    "    JOIN FACT2 f\n",
    "        ON b.DIAGNOSIS_GROUP_KEY = f.DIAGNOSIS_GROUP_KEY\n",
    "    JOIN D_PERSON dp\n",
    "        ON f.PERSON_KEY = dp.PERSON_KEY\n",
    "    WHERE f.PERSON_KEY IN (\n",
    "        SELECT DISTINCT dp.PERSON_KEY\n",
    "        FROM FD_PROCEDURE fd \n",
    "        JOIN B_PROCEDURE b\n",
    "         ON fd.PROCEDURE_KEY = b.PROCEDURE_KEY\n",
    "        JOIN FACT2 f\n",
    "            ON b.PROCEDURE_GROUP_KEY = f.PROCEDURE_GROUP_KEY\n",
    "        JOIN D_PERSON dp\n",
    "            ON f.PERSON_KEY = dp.PERSON_KEY\n",
    "        WHERE (\n",
    "            fd.CONTEXT_PROCEDURE_CODE LIKE '35.%'\n",
    "            OR fd.CONTEXT_PROCEDURE_CODE LIKE '36.1%'\n",
    "        )\n",
    "        AND f.AGE_IN_DAYS > 6570\n",
    "    )\n",
    "    AND (\n",
    "        fd.CONTEXT_DIAGNOSIS_CODE = '584.9'\n",
    "        OR fd.CONTEXT_DIAGNOSIS_CODE LIKE '433%'\n",
    "        OR fd.CONTEXT_DIAGNOSIS_CODE LIKE '434%'\n",
    "        OR fd.CONTEXT_DIAGNOSIS_CODE LIKE '436%'\n",
    "    )\n",
    "    AND fd.CONTEXT_NAME = 'ICD-9'\n",
    "    GROUP BY fd.CONTEXT_DIAGNOSIS_CODE\n",
    "    ORDER BY count DESC\n",
    "    \"\"\",\n",
    "    engine\n",
    ")"
   ]
  },
  {
   "cell_type": "code",
   "execution_count": null,
   "metadata": {},
   "outputs": [],
   "source": [
    "# aki['label'] = aki[['description', 'context_diagnosis_code']].apply(lambda x: f'{x[0]} ({x[1]})', axis=1)\n",
    "ax = aki[0:20].plot(x='context_diagnosis_code', y='count', kind=\"bar\")\n",
    "xlabels = ax.get_xticklabels()\n",
    "ax.set_xticklabels(xlabels, rotation=40, ha='right')\n",
    "title = ax.set_title(f'Top comorbidities for {number_of_patients} patients and ICD-9 like (584.9, 433.*, 434.*, 435.*)')"
   ]
  },
  {
   "cell_type": "code",
   "execution_count": null,
   "metadata": {},
   "outputs": [],
   "source": [
    "glucose = pd.read_sql(\n",
    "    '''\n",
    "    SELECT dp.MEDICAL_RECORD_NUMBER, f.VALUE\n",
    "    FROM FD_PROCEDURE fd \n",
    "    JOIN B_PROCEDURE b\n",
    "        ON fd.PROCEDURE_KEY = b.PROCEDURE_KEY\n",
    "    JOIN FACT2 f\n",
    "        ON b.PROCEDURE_GROUP_KEY = f.PROCEDURE_GROUP_KEY\n",
    "    JOIN D_PERSON dp\n",
    "        ON f.PERSON_KEY = dp.PERSON_KEY\n",
    "    WHERE f.PERSON_KEY IN (\n",
    "        SELECT DISTINCT dp.PERSON_KEY\n",
    "        FROM FD_PROCEDURE fd \n",
    "        JOIN B_PROCEDURE b\n",
    "         ON fd.PROCEDURE_KEY = b.PROCEDURE_KEY\n",
    "        JOIN FACT2 f\n",
    "            ON b.PROCEDURE_GROUP_KEY = f.PROCEDURE_GROUP_KEY\n",
    "        JOIN D_PERSON dp\n",
    "            ON f.PERSON_KEY = dp.PERSON_KEY\n",
    "        WHERE (\n",
    "            fd.CONTEXT_PROCEDURE_CODE LIKE '35.%'\n",
    "            OR fd.CONTEXT_PROCEDURE_CODE LIKE '36.1%'\n",
    "        )\n",
    "        AND f.AGE_IN_DAYS > 6570\n",
    "    )\n",
    "    AND fd.PROCEDURE_DESCRIPTION = 'Glucose; blood, reagent strip'\n",
    "    ''',\n",
    "    engine\n",
    ")"
   ]
  },
  {
   "cell_type": "code",
   "execution_count": null,
   "metadata": {},
   "outputs": [],
   "source": [
    "class OrTest:\n",
    "    def __init__(self, name):\n",
    "        self.name = name\n",
    "    \n",
    "    def __or__(self, other):\n",
    "        print(self.name, other.name)\n",
    "        return OrTest(f'{self.name}OR{other.name}')"
   ]
  },
  {
   "cell_type": "code",
   "execution_count": null,
   "metadata": {},
   "outputs": [],
   "source": [
    "(\n",
    "    OrTest('OuterLeft') | (\n",
    "        OrTest(1) | (\n",
    "            OrTest(2.1) | OrTest(2.2)\n",
    "        )\n",
    "    ) | OrTest('OuterRight')\n",
    ")"
   ]
  }
 ],
 "metadata": {
  "kernelspec": {
   "display_name": "Python 3",
   "language": "python",
   "name": "python3"
  },
  "language_info": {
   "codemirror_mode": {
    "name": "ipython",
    "version": 3
   },
   "file_extension": ".py",
   "mimetype": "text/x-python",
   "name": "python",
   "nbconvert_exporter": "python",
   "pygments_lexer": "ipython3",
   "version": "3.6.8"
  }
 },
 "nbformat": 4,
 "nbformat_minor": 2
}
