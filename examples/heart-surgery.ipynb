{
 "cells": [
  {
   "cell_type": "code",
   "execution_count": null,
   "metadata": {
    "scrolled": false,
    "slideshow": {
     "slide_type": "skip"
    }
   },
   "outputs": [],
   "source": [
    "%load_ext autoreload\n",
    "%autoreload 2"
   ]
  },
  {
   "cell_type": "code",
   "execution_count": null,
   "metadata": {
    "scrolled": false,
    "slideshow": {
     "slide_type": "skip"
    }
   },
   "outputs": [],
   "source": [
    "import pandas as pd\n",
    "import numpy as np\n",
    "\n",
    "from fiber.cohort import Cohort\n",
    "from fiber.condition import Procedure, Diagnosis, Drug, VitalSign, Patient, LabValue\n",
    "from fiber.database.hana import engine, Session, print_sqla\n",
    "\n",
    "from fiber.database.table import fact"
   ]
  },
  {
   "cell_type": "code",
   "execution_count": null,
   "metadata": {},
   "outputs": [],
   "source": [
    "trim_func = lambda x: x.split('.')[0]"
   ]
  },
  {
   "cell_type": "markdown",
   "metadata": {
    "slideshow": {
     "slide_type": "slide"
    }
   },
   "source": [
    "# Cohort Definition\n",
    "\n",
    "### TODO: \n",
    "- Patient in ICU or not"
   ]
  },
  {
   "cell_type": "code",
   "execution_count": null,
   "metadata": {
    "scrolled": false
   },
   "outputs": [],
   "source": [
    "min_age = Patient.age_in_days > 365 * 18\n",
    "heart_surgery_condition = Procedure(code='35.%').with_(min_age) | Procedure(code='36.1%').with_(min_age)"
   ]
  },
  {
   "cell_type": "code",
   "execution_count": null,
   "metadata": {
    "scrolled": true
   },
   "outputs": [],
   "source": [
    "heart_surgery_cohort = Cohort(heart_surgery_condition)"
   ]
  },
  {
   "cell_type": "code",
   "execution_count": null,
   "metadata": {},
   "outputs": [],
   "source": [
    "len(heart_surgery_cohort)"
   ]
  },
  {
   "cell_type": "markdown",
   "metadata": {
    "slideshow": {
     "slide_type": "slide"
    }
   },
   "source": [
    "# Demographics"
   ]
  },
  {
   "cell_type": "code",
   "execution_count": null,
   "metadata": {},
   "outputs": [],
   "source": [
    "demographics = heart_surgery_cohort.demographics"
   ]
  },
  {
   "cell_type": "code",
   "execution_count": null,
   "metadata": {
    "scrolled": false,
    "slideshow": {
     "slide_type": "slide"
    }
   },
   "outputs": [],
   "source": [
    "demographics[\"age\"][\"figure\"]"
   ]
  },
  {
   "cell_type": "code",
   "execution_count": null,
   "metadata": {
    "scrolled": true,
    "slideshow": {
     "slide_type": "-"
    }
   },
   "outputs": [],
   "source": [
    "demographics[\"gender\"][\"figure\"]"
   ]
  },
  {
   "cell_type": "markdown",
   "metadata": {
    "slideshow": {
     "slide_type": "slide"
    }
   },
   "source": [
    "# Onsets\n",
    "- Mortality 0, 7, 14 and 28 days\n",
    "- Rehospitalization 7, 14 and 28 days\n",
    "- Acute Kidney Injury,  ICD9 code `%584%` or AKI phenotype\n",
    "- Stroke (Cerebrovascular event), 0, 7, 14 and 28 days\n",
    "\t- Occlusion and stenosis of precerebral arteries,\tICD9 code `433%`\n",
    "\t- Occlusion of cerebral arteries,\tICD9 code `434%`\n",
    "\t- Acute but ill-defined cerebrovascular disease, ICD9 code `436%`\n",
    "\n",
    "\n",
    "### TODO: \n",
    "- mortality\n",
    "- rehospitalization\n",
    "- AKI phenotype -> AKIN, KDIGO (more important)"
   ]
  },
  {
   "cell_type": "code",
   "execution_count": null,
   "metadata": {},
   "outputs": [],
   "source": [
    "aki = heart_surgery_cohort.has_onset(\n",
    "    name=\"aki\",\n",
    "    condition=Diagnosis(code=\"584.9\", context=\"ICD-9\"), \n",
    "    time_deltas=[1, 7, 14, 28],\n",
    "    trim_func=trim_func\n",
    ")\n",
    "aki"
   ]
  },
  {
   "cell_type": "code",
   "execution_count": null,
   "metadata": {},
   "outputs": [],
   "source": [
    "stroke = heart_surgery_cohort.has_onset(\n",
    "    name=\"stroke\",\n",
    "    condition=Diagnosis(code='433.%') | Diagnosis(code='434.%') | Diagnosis(code='436.%'), \n",
    "    time_deltas=[1, 7, 14, 28],\n",
    "    trim_func=trim_func\n",
    ")\n",
    "stroke"
   ]
  },
  {
   "cell_type": "markdown",
   "metadata": {
    "slideshow": {
     "slide_type": "slide"
    }
   },
   "source": [
    "# Preconditions"
   ]
  },
  {
   "cell_type": "code",
   "execution_count": null,
   "metadata": {},
   "outputs": [],
   "source": [
    "preconditions = {}"
   ]
  },
  {
   "cell_type": "code",
   "execution_count": null,
   "metadata": {},
   "outputs": [],
   "source": [
    "diagnoses = [\n",
    "    \"congestive heart failure\",\n",
    "    \"fluid and electrolyte disorders\",\n",
    "    \"liver disease\",\n",
    "    \"rheumatoid arthritis/collagen vascular diseases\",\n",
    "   # \"AIDS/HIV\",\n",
    "    \"alcohol abuse\",\n",
    "    \"blood loss anemia\",\n",
    "    \"cardiac arrhythmia\",\n",
    "    \"chronic pulmonary disease\",\n",
    "    \"coagulopathy\",\n",
    "    \"deficiency anemia\",\n",
    "    \"depression\",\n",
    "    \"diabetes complicated\",\n",
    "    \"diabetes uncomplicated\",\n",
    "    \"drug abuse\",\n",
    "    \"hypertension complicated\",\n",
    "    \"hypertension uncomplicated\",\n",
    "    \"lymphoma\",\n",
    "    \"metastatic cancer\",\n",
    "    \"obesity\",\n",
    "    \"other neurological disorders\",\n",
    "    \"paralysis\",\n",
    "    \"peptic ulcer disease excluding bleeding\",\n",
    "    \"peripheral vascular disorders\",\n",
    "    \"psychoses\",\n",
    "    \"pulmonary circulation disorders\",\n",
    "    \"renal failure\",\n",
    "    \"solid tumor without metastasis\",\n",
    "    \"valvular disease\",\n",
    "    \"weight loss\"\n",
    "]"
   ]
  },
  {
   "cell_type": "code",
   "execution_count": null,
   "metadata": {},
   "outputs": [],
   "source": [
    "for cond in diagnoses:\n",
    "    preconditions[cond] = heart_surgery_cohort.has_precondition(\n",
    "        condition=Diagnosis.from_condition_store(name=cond),\n",
    "        trim_func=trim_func\n",
    "    )"
   ]
  },
  {
   "cell_type": "markdown",
   "metadata": {
    "slideshow": {
     "slide_type": "slide"
    }
   },
   "source": [
    "# Lab Values - Example for Glucose"
   ]
  },
  {
   "cell_type": "code",
   "execution_count": null,
   "metadata": {},
   "outputs": [],
   "source": [
    "print(LabValue(test_name=\"GLUCOSE%\").value_counts(\"test_name\"), \"\\n\\n\", \\\n",
    "LabValue(test_name=\"GLUCOSE%\").get_data(inclusion_mrns=heart_surgery_cohort).test_name.value_counts().head())"
   ]
  },
  {
   "cell_type": "code",
   "execution_count": null,
   "metadata": {},
   "outputs": [],
   "source": [
    "lv_glucose = heart_surgery_cohort.results_for(LabValue(test_name=\"GLUCOSE\"), before=heart_surgery_condition)"
   ]
  },
  {
   "cell_type": "code",
   "execution_count": null,
   "metadata": {
    "scrolled": true
   },
   "outputs": [],
   "source": [
    "lv_glucose[lv_glucose.occurs_x_days_before < 4].occurs_x_days_before.value_counts()"
   ]
  },
  {
   "cell_type": "markdown",
   "metadata": {},
   "source": [
    "## Other lab values"
   ]
  },
  {
   "cell_type": "code",
   "execution_count": null,
   "metadata": {},
   "outputs": [],
   "source": [
    "def search_lab(search_string, rows=5):\n",
    "    return LabValue(test_name=\"%\" + search_string + \"%\").value_counts(\"test_name\").head(rows)"
   ]
  },
  {
   "cell_type": "code",
   "execution_count": null,
   "metadata": {},
   "outputs": [],
   "source": [
    "print(search_lab(\"NITROGEN\"), \"\\n\")\n",
    "print(search_lab(\"CREATININE\", 6), \"\\n\")\n",
    "print(search_lab(\"ANION\", 6), \"\\n\")\n",
    "print(search_lab(\"BILIRUBIN\"), \"\\n\")\n",
    "print(search_lab(\"ALBUMIN\"), \"\\n\")\n",
    "print(search_lab(\"CHLORIDE\"), \"\\n\")\n",
    "print(search_lab(\"GLUCOSE\", 10), \"\\n\")\n",
    "print(search_lab(\"HEMATOCRIT\"), \"\\n\")\n",
    "print(search_lab(\"HEMOGLOBIN\"), \"\\n\")\n",
    "print(search_lab(\"LACTATE\", 6), \"\\n\")\n",
    "print(search_lab(\"PLATELET\"), \"\\n\")\n",
    "print(search_lab(\"POTASSIUM\"), \"\\n\")\n",
    "print(search_lab(\"SODIUM\"), \"\\n\")\n",
    "print(search_lab(\"WBC\"), \"\\n\", search_lab(\"WHITE BLOOD\", 1), \"\\n\")\n",
    "print(search_lab(\"PT\"), \"\\n\")\n",
    "print(search_lab(\"PTT\"), \"\\n\")\n",
    "print(search_lab(\"INR\"), \"\\n\")"
   ]
  },
  {
   "cell_type": "code",
   "execution_count": null,
   "metadata": {},
   "outputs": [],
   "source": [
    "lab_values = {}"
   ]
  },
  {
   "cell_type": "code",
   "execution_count": null,
   "metadata": {},
   "outputs": [],
   "source": [
    "lv_cond = {\n",
    "    \"Blood Urea Nitrogen\": LabValue(\"UREA NITROGEN-BLD\"),\n",
    "    \"Blood Creatinine\": LabValue(\"CREATININE-SERUM\"),\n",
    "    \"Anion Gap\": LabValue(\"ANION GAP\"),\n",
    "    \"Bilirubin\": LabValue(\"BILIRUBIN TOTAL\"),\n",
    "    \"Albumin\": LabValue(\"ALBUMIN, BLD\"),\n",
    "    \"Chloride\": LabValue(\"CHLORIDE-BLD\"),\n",
    "    \"Glucose\": LabValue(\"GLUCOSE\"),\n",
    "    \"Hematocrit\": LabValue(\"HEMATOCRIT\"),\n",
    "    \"Hemoglobin\": LabValue(\"HEMOGLOBIN\"),\n",
    "    \"Platelet Count\": LabValue(\"PLATELET\"),\n",
    "    \"Potassium\": LabValue(\"POTASSIUMBLD\"),\n",
    "    \"Sodium\": LabValue(\"SODIUM-BLD\"),\n",
    "    \"White Blood Cell Count\": LabValue(\"WHITE BLOOD CELL\") | LabValue(\"WBC\"),\n",
    "    \"INR\": LabValue(\"INR\"),\n",
    "    \"PTT\": LabValue(\"APTT\"),\n",
    "    \"PT\": LabValue(\"PRO TIME\"),\n",
    "    \"Lactate\": LabValue(\"WB LACTATE-ART (POCT)\"),\n",
    "}"
   ]
  },
  {
   "cell_type": "code",
   "execution_count": null,
   "metadata": {},
   "outputs": [],
   "source": [
    "for name, cond in lv_cond.items():\n",
    "    with Timer() as t:\n",
    "        results_for_test = heart_surgery_cohort.results_for(cond, before=heart_surgery_condition)\n",
    "        lab_values[name] = results_for_test[results_for_test.occurs_x_days_before < 4]\n",
    "    print(f'Aggregating {name} day-wise done in {t.elapsed}s')"
   ]
  },
  {
   "cell_type": "code",
   "execution_count": null,
   "metadata": {},
   "outputs": [],
   "source": [
    "# TODO: lt or eq\n",
    "def pivot_lab_values(\n",
    "    name,\n",
    "    x,\n",
    "    limit,\n",
    "    comparator=\"eq\",\n",
    "):\n",
    "    if comparator == \"lt\":\n",
    "        mask = x.occurs_x_days_before <= limit\n",
    "    else:\n",
    "        mask = x.occurs_x_days_before == limit\n",
    "\n",
    "    return pd.Series({\n",
    "        f\"{name}_value_{limit}_days\": x[mask][\"numeric_value\"].mean(),\n",
    "        f\"{name}_result_flag_{limit}_days\": x[mask][\"result_flag\"].value_counts().index[0] if x[mask][\"result_flag\"].any() else np.nan,\n",
    "        f\"{name}_abnormal_{limit}_days\": x[mask][\"abnormal\"].median(),\n",
    "    })"
   ]
  },
  {
   "cell_type": "code",
   "execution_count": null,
   "metadata": {},
   "outputs": [],
   "source": [
    "pivoted_values = {}\n",
    "for name, lab_df in lab_values.items():\n",
    "    pivoted_values[name] = lab_df.groupby(\n",
    "        [\"medical_record_number\", \"age_in_days\"]\n",
    "    ).apply(\n",
    "        lambda x: pivot_lab_values(name, x, 1, \"lt\").append([pivot_lab_values(name, x, 2), pivot_lab_values(name, x, 3)])\n",
    "    ).reset_index()"
   ]
  },
  {
   "cell_type": "code",
   "execution_count": null,
   "metadata": {
    "scrolled": true
   },
   "outputs": [],
   "source": [
    "merged_and_pivoted_lab_values = heart_surgery_cohort.merge_lab_values(*pivoted_values.values())"
   ]
  },
  {
   "cell_type": "code",
   "execution_count": null,
   "metadata": {},
   "outputs": [],
   "source": [
    "final_df = heart_surgery_cohort.build_data(\n",
    "    aki,\n",
    "    stroke,\n",
    "    *preconditions.values(),\n",
    ")"
   ]
  },
  {
   "cell_type": "code",
   "execution_count": null,
   "metadata": {},
   "outputs": [],
   "source": [
    "pd.merge(final_df, merged_and_pivoted_lab_values, on=['medical_record_number', 'age_in_days']).describe()"
   ]
  }
 ],
 "metadata": {
  "celltoolbar": "Slideshow",
  "kernelspec": {
   "display_name": "Python 3",
   "language": "python",
   "name": "python3"
  },
  "language_info": {
   "codemirror_mode": {
    "name": "ipython",
    "version": 3
   },
   "file_extension": ".py",
   "mimetype": "text/x-python",
   "name": "python",
   "nbconvert_exporter": "python",
   "pygments_lexer": "ipython3",
   "version": "3.6.5"
  }
 },
 "nbformat": 4,
 "nbformat_minor": 2
}
