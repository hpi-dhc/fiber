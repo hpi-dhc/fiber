{
 "cells": [
  {
   "cell_type": "code",
   "execution_count": 14,
   "metadata": {},
   "outputs": [
    {
     "name": "stdout",
     "output_type": "stream",
     "text": [
      "The autoreload extension is already loaded. To reload it, use:\n",
      "  %reload_ext autoreload\n"
     ]
    }
   ],
   "source": [
    "%load_ext autoreload\n",
    "%autoreload 2\n",
    "%aimport fiber"
   ]
  },
  {
   "cell_type": "code",
   "execution_count": 17,
   "metadata": {
    "slideshow": {
     "slide_type": "slide"
    }
   },
   "outputs": [],
   "source": [
    "#import seaborn as sns\n",
    "import numpy as np\n",
    "\n",
    "from fiber.cohort import Cohort\n",
    "from fiber.condition import Procedure, Diagnosis, Drug, VitalSign\n",
    "from fiber.database.hana import engine, Session, print_sqla\n",
    "\n",
    "from fiber.database.table import fact"
   ]
  },
  {
   "cell_type": "code",
   "execution_count": 5,
   "metadata": {},
   "outputs": [],
   "source": [
    "min_age = fact.AGE_IN_DAYS > 365 * 18\n",
    "\n",
    "hs = Procedure(code='35.%').with_(min_age) | Procedure(code='36.1%').with_(min_age)\n",
    "aki = Diagnosis(code='584.9', context='ICD-9')\n"
   ]
  },
  {
   "cell_type": "code",
   "execution_count": 6,
   "metadata": {},
   "outputs": [],
   "source": [
    "heart_surgery_cohort = Cohort(hs)\n",
    "# vitals, lab, meds = heart_surgery_cohort.get(VitalSign(), LabValues(), Drugs())"
   ]
  },
  {
   "cell_type": "code",
   "execution_count": 7,
   "metadata": {},
   "outputs": [
    {
     "name": "stdout",
     "output_type": "stream",
     "text": [
      "Executing: SELECT DISTINCT \"MSDW_2018\".d_person.medical_record_number\n",
      "FROM \"MSDW_2018\".fact2\n",
      "JOIN \"MSDW_2018\".d_person ON \"MSDW_2018\".fact2.person_key = \"MSDW_2018\".d_person.person_key\n",
      "JOIN \"MSDW_2018\".b_procedure ON \"MSDW_2018\".fact2.procedure_group_key = \"MSDW_2018\".b_procedure.procedure_group_key\n",
      "JOIN \"MSDW_2018\".fd_procedure ON \"MSDW_2018\".fd_procedure.procedure_key = \"MSDW_2018\".b_procedure.procedure_key\n",
      "WHERE \"MSDW_2018\".fd_procedure.context_procedure_code LIKE '35.%'\n",
      "  AND \"MSDW_2018\".fact2.age_in_days > 6570\n",
      "  OR \"MSDW_2018\".fd_procedure.context_procedure_code LIKE '36.1%'\n",
      "  AND \"MSDW_2018\".fact2.age_in_days > 6570\n"
     ]
    },
    {
     "data": {
      "text/plain": [
       "8013"
      ]
     },
     "execution_count": 7,
     "metadata": {},
     "output_type": "execute_result"
    }
   ],
   "source": [
    "len(heart_surgery_cohort)"
   ]
  },
  {
   "cell_type": "code",
   "execution_count": null,
   "metadata": {
    "slideshow": {
     "slide_type": "slide"
    }
   },
   "outputs": [],
   "source": [
    "fent, morph = Drug('%Fentanyl%'), Drug('%Morphine%')\n",
    "hs_fent, hs_morph = (\n",
    "    Cohort(hs & fent),\n",
    "    Cohort(hs & morph),\n",
    ")\n",
    "len(hs_fent.mrns() - hs_morph.mrns())"
   ]
  },
  {
   "cell_type": "code",
   "execution_count": 18,
   "metadata": {},
   "outputs": [
    {
     "ename": "AttributeError",
     "evalue": "'Cohort' object has no attribute '_excluded_mrns'",
     "output_type": "error",
     "traceback": [
      "\u001b[0;31m---------------------------------------------------------------------------\u001b[0m",
      "\u001b[0;31mAttributeError\u001b[0m                            Traceback (most recent call last)",
      "\u001b[0;32m<ipython-input-18-a11285d1e620>\u001b[0m in \u001b[0;36m<module>\u001b[0;34m\u001b[0m\n\u001b[0;32m----> 1\u001b[0;31m \u001b[0mheart_surgery_cohort\u001b[0m\u001b[0;34m.\u001b[0m\u001b[0mexclude\u001b[0m\u001b[0;34m(\u001b[0m\u001b[0;34m[\u001b[0m\u001b[0;34m'2241492414'\u001b[0m\u001b[0;34m,\u001b[0m\u001b[0;34m'2117141414'\u001b[0m\u001b[0;34m]\u001b[0m\u001b[0;34m)\u001b[0m\u001b[0;34m.\u001b[0m\u001b[0mmrns\u001b[0m\u001b[0;34m(\u001b[0m\u001b[0;34m)\u001b[0m\u001b[0;34m\u001b[0m\u001b[0;34m\u001b[0m\u001b[0m\n\u001b[0m",
      "\u001b[0;32m~/Desktop/fiber/fiber/fiber/cohort.py\u001b[0m in \u001b[0;36mexclude\u001b[0;34m(self, mrn_list)\u001b[0m\n\u001b[1;32m     46\u001b[0m \u001b[0;34m\u001b[0m\u001b[0m\n\u001b[1;32m     47\u001b[0m     \u001b[0;32mdef\u001b[0m \u001b[0mexclude\u001b[0m\u001b[0;34m(\u001b[0m\u001b[0mself\u001b[0m\u001b[0;34m,\u001b[0m \u001b[0mmrn_list\u001b[0m\u001b[0;34m)\u001b[0m\u001b[0;34m:\u001b[0m\u001b[0;34m\u001b[0m\u001b[0;34m\u001b[0m\u001b[0m\n\u001b[0;32m---> 48\u001b[0;31m         \u001b[0mself\u001b[0m\u001b[0;34m.\u001b[0m\u001b[0m_excluded_mrns\u001b[0m \u001b[0;34m=\u001b[0m \u001b[0mself\u001b[0m\u001b[0;34m.\u001b[0m\u001b[0m_excluded_mrns\u001b[0m \u001b[0;34m+\u001b[0m \u001b[0mmrn_list\u001b[0m\u001b[0;34m\u001b[0m\u001b[0;34m\u001b[0m\u001b[0m\n\u001b[0m\u001b[1;32m     49\u001b[0m         \u001b[0;32mreturn\u001b[0m \u001b[0mself\u001b[0m\u001b[0;34m\u001b[0m\u001b[0;34m\u001b[0m\u001b[0m\n\u001b[1;32m     50\u001b[0m \u001b[0;34m\u001b[0m\u001b[0m\n",
      "\u001b[0;31mAttributeError\u001b[0m: 'Cohort' object has no attribute '_excluded_mrns'"
     ]
    }
   ],
   "source": [
    "heart_surgery_cohort.exclude(['2241492414','2117141414']).mrns()\n"
   ]
  },
  {
   "cell_type": "code",
   "execution_count": null,
   "metadata": {},
   "outputs": [],
   "source": [
    "bp = heart_surgery_cohort.get(VitalSign('Systolic Blood Pressure'))"
   ]
  },
  {
   "cell_type": "code",
   "execution_count": null,
   "metadata": {},
   "outputs": [],
   "source": []
  },
  {
   "cell_type": "code",
   "execution_count": null,
   "metadata": {
    "scrolled": true
   },
   "outputs": [],
   "source": [
    "co_occurrence = heart_surgery_cohort.occurs((\n",
    "    aki,\n",
    "    Diagnosis(code='433.%'),\n",
    "    Diagnosis(code='434.%'),\n",
    "    Diagnosis(code='436.%'),\n",
    "), relative_to=hs)"
   ]
  },
  {
   "cell_type": "code",
   "execution_count": null,
   "metadata": {},
   "outputs": [],
   "source": [
    "co_occurrence"
   ]
  },
  {
   "cell_type": "code",
   "execution_count": null,
   "metadata": {},
   "outputs": [],
   "source": [
    "# heart_surgery_cohort.get(VitalSign('%Blood Pressure'))"
   ]
  },
  {
   "cell_type": "code",
   "execution_count": null,
   "metadata": {},
   "outputs": [],
   "source": [
    "heart_surgery_cohort.lab_results.TEST_NAME.value_counts()"
   ]
  },
  {
   "cell_type": "code",
   "execution_count": null,
   "metadata": {},
   "outputs": [],
   "source": []
  },
  {
   "cell_type": "code",
   "execution_count": null,
   "metadata": {},
   "outputs": [],
   "source": [
    "crea = heart_surgery_cohort.lab_results_for('CREATININE-SERUM')"
   ]
  },
  {
   "cell_type": "code",
   "execution_count": null,
   "metadata": {},
   "outputs": [],
   "source": [
    "develops_aki = co_occurrence[\n",
    "    (co_occurrence.target_context.str.contains('584')) & (co_occurrence.occurs_after_days < 0)\n",
    "].medical_record_number.unique()\n",
    "\n",
    "develops_stroke = co_occurrence[\n",
    "    (co_occurrence.target_context.str.contains('43')) & (co_occurrence.occurs_after_days < 0)\n",
    "].medical_record_number.unique()"
   ]
  },
  {
   "cell_type": "code",
   "execution_count": null,
   "metadata": {},
   "outputs": [],
   "source": [
    "crea['develops_aki'] = crea.MEDICAL_RECORD_NUMBER.isin(develops_aki)\n",
    "crea['develops_stroke'] = crea.MEDICAL_RECORD_NUMBER.isin(develops_stroke)"
   ]
  },
  {
   "cell_type": "code",
   "execution_count": null,
   "metadata": {},
   "outputs": [],
   "source": [
    "crea = crea[crea.VALUE < 10]\n",
    "\n",
    "_, bins = np.histogram(crea['VALUE'])\n",
    "g = sns.FacetGrid(crea, hue=\"develops_aki\", height=4, aspect=1)\n",
    "g = g.map(sns.distplot, \"VALUE\", bins=bins, hist=False)\n"
   ]
  },
  {
   "cell_type": "code",
   "execution_count": null,
   "metadata": {},
   "outputs": [],
   "source": []
  }
 ],
 "metadata": {
  "kernelspec": {
   "display_name": "Python 3",
   "language": "python",
   "name": "python3"
  },
  "language_info": {
   "codemirror_mode": {
    "name": "ipython",
    "version": 3
   },
   "file_extension": ".py",
   "mimetype": "text/x-python",
   "name": "python",
   "nbconvert_exporter": "python",
   "pygments_lexer": "ipython3",
   "version": "3.6.7"
  }
 },
 "nbformat": 4,
 "nbformat_minor": 2
}
