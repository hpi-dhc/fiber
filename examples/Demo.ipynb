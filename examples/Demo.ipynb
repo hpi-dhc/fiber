{
 "cells": [
  {
   "cell_type": "code",
   "execution_count": null,
   "metadata": {},
   "outputs": [],
   "source": [
    "%load_ext autoreload\n",
    "%autoreload 2"
   ]
  },
  {
   "cell_type": "code",
   "execution_count": null,
   "metadata": {
    "slideshow": {
     "slide_type": "slide"
    }
   },
   "outputs": [],
   "source": [
    "#import seaborn as sns\n",
    "import numpy as np\n",
    "\n",
    "from fiber.cohort import Cohort\n",
    "from fiber.condition import Procedure, Diagnosis, Drug, VitalSign\n",
    "from fiber.database.hana import engine, Session, print_sqla\n",
    "\n",
    "from fiber.database.table import fact"
   ]
  },
  {
   "cell_type": "code",
   "execution_count": null,
   "metadata": {},
   "outputs": [],
   "source": [
    "min_age = fact.AGE_IN_DAYS > 365 * 18\n",
    "\n",
    "hs = Procedure(code='35.%').with_(min_age) | Procedure(code='36.1%').with_(min_age)\n",
    "aki = Diagnosis(code='584.9', context='ICD-9')\n"
   ]
  },
  {
   "cell_type": "code",
   "execution_count": null,
   "metadata": {},
   "outputs": [],
   "source": [
    "heart_surgery_cohort = Cohort(hs)\n",
    "# vitals, lab, meds = heart_surgery_cohort.get(VitalSign(), LabValues(), Drugs())"
   ]
  },
  {
   "cell_type": "code",
   "execution_count": null,
   "metadata": {},
   "outputs": [],
   "source": [
    "len(heart_surgery_cohort)"
   ]
  },
  {
   "cell_type": "code",
   "execution_count": null,
   "metadata": {
    "slideshow": {
     "slide_type": "slide"
    }
   },
   "outputs": [],
   "source": [
    "fent, morph = Drug('%Fentanyl%'), Drug('%Morphine%')\n",
    "hs_fent, hs_morph = (\n",
    "    Cohort(hs & fent),\n",
    "    Cohort(hs & morph),\n",
    ")\n",
    "len(hs_fent.mrns() - hs_morph.mrns())"
   ]
  },
  {
   "cell_type": "code",
   "execution_count": null,
   "metadata": {},
   "outputs": [],
   "source": [
    "heart_surgery_cohort.exclude(['2241492414','2117141414']).mrns()"
   ]
  },
  {
   "cell_type": "code",
   "execution_count": null,
   "metadata": {},
   "outputs": [],
   "source": [
    "bp = heart_surgery_cohort.get(VitalSign('Systolic Blood Pressure'))"
   ]
  },
  {
   "cell_type": "code",
   "execution_count": null,
   "metadata": {},
   "outputs": [],
   "source": [
    "bp"
   ]
  },
  {
   "cell_type": "code",
   "execution_count": null,
   "metadata": {
    "scrolled": true
   },
   "outputs": [],
   "source": [
    "co_occurrence = heart_surgery_cohort.occurs((\n",
    "    aki,\n",
    "    Diagnosis(code='433.%'),\n",
    "    Diagnosis(code='434.%'),\n",
    "    Diagnosis(code='436.%'),\n",
    "), relative_to=hs)"
   ]
  },
  {
   "cell_type": "code",
   "execution_count": null,
   "metadata": {},
   "outputs": [],
   "source": [
    "co_occurrence"
   ]
  },
  {
   "cell_type": "code",
   "execution_count": null,
   "metadata": {},
   "outputs": [],
   "source": [
    "# heart_surgery_cohort.get(VitalSign('%Blood Pressure'))"
   ]
  },
  {
   "cell_type": "code",
   "execution_count": null,
   "metadata": {},
   "outputs": [],
   "source": [
    "heart_surgery_cohort.lab_results.TEST_NAME.value_counts()"
   ]
  },
  {
   "cell_type": "code",
   "execution_count": null,
   "metadata": {},
   "outputs": [],
   "source": []
  },
  {
   "cell_type": "code",
   "execution_count": null,
   "metadata": {},
   "outputs": [],
   "source": [
    "crea = heart_surgery_cohort.lab_results_for('CREATININE-SERUM')"
   ]
  },
  {
   "cell_type": "code",
   "execution_count": null,
   "metadata": {},
   "outputs": [],
   "source": [
    "develops_aki = co_occurrence[\n",
    "    (co_occurrence.target_context.str.contains('584')) & (co_occurrence.occurs_after_days < 0)\n",
    "].medical_record_number.unique()\n",
    "\n",
    "develops_stroke = co_occurrence[\n",
    "    (co_occurrence.target_context.str.contains('43')) & (co_occurrence.occurs_after_days < 0)\n",
    "].medical_record_number.unique()"
   ]
  },
  {
   "cell_type": "code",
   "execution_count": null,
   "metadata": {},
   "outputs": [],
   "source": [
    "crea['develops_aki'] = crea.MEDICAL_RECORD_NUMBER.isin(develops_aki)\n",
    "crea['develops_stroke'] = crea.MEDICAL_RECORD_NUMBER.isin(develops_stroke)"
   ]
  },
  {
   "cell_type": "code",
   "execution_count": null,
   "metadata": {},
   "outputs": [],
   "source": [
    "crea = crea[crea.VALUE < 10]\n",
    "\n",
    "_, bins = np.histogram(crea['VALUE'])\n",
    "g = sns.FacetGrid(crea, hue=\"develops_aki\", height=4, aspect=1)\n",
    "g = g.map(sns.distplot, \"VALUE\", bins=bins, hist=False)\n"
   ]
  },
  {
   "cell_type": "code",
   "execution_count": null,
   "metadata": {},
   "outputs": [],
   "source": []
  }
 ],
 "metadata": {
  "kernelspec": {
   "display_name": "Python 3",
   "language": "python",
   "name": "python3"
  },
  "language_info": {
   "codemirror_mode": {
    "name": "ipython",
    "version": 3
   },
   "file_extension": ".py",
   "mimetype": "text/x-python",
   "name": "python",
   "nbconvert_exporter": "python",
   "pygments_lexer": "ipython3",
   "version": "3.6.8"
  }
 },
 "nbformat": 4,
 "nbformat_minor": 2
}
