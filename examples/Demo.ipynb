{
 "cells": [
  {
   "cell_type": "code",
   "execution_count": null,
   "metadata": {
    "scrolled": true,
    "slideshow": {
     "slide_type": "skip"
    }
   },
   "outputs": [],
   "source": [
    "%load_ext autoreload\n",
    "%autoreload 2"
   ]
  },
  {
   "cell_type": "code",
   "execution_count": null,
   "metadata": {
    "scrolled": true,
    "slideshow": {
     "slide_type": "skip"
    }
   },
   "outputs": [],
   "source": [
    "import yaml\n",
    "import re\n",
    "\n",
    "import seaborn as sns\n",
    "import numpy as np\n",
    "import pandas as pd\n",
    "import matplotlib.pyplot as plt\n",
    "\n",
    "from functools import reduce\n",
    "\n",
    "from fiber.cohort import Cohort\n",
    "from fiber.condition import Procedure, Diagnosis, Drug, VitalSign, Patient, LabValue\n",
    "from fiber.database.hana import engine, Session, print_sqla\n",
    "\n",
    "from fiber.database.table import fact"
   ]
  },
  {
   "cell_type": "markdown",
   "metadata": {
    "slideshow": {
     "slide_type": "slide"
    }
   },
   "source": [
    "# Cohort Definition"
   ]
  },
  {
   "cell_type": "code",
   "execution_count": null,
   "metadata": {},
   "outputs": [],
   "source": [
    "from fiber.condition import Diagnosis, Drug, LabValue, Patient, Procedure, VitalSign"
   ]
  },
  {
   "cell_type": "code",
   "execution_count": null,
   "metadata": {
    "scrolled": false
   },
   "outputs": [],
   "source": [
    "min_age = Patient.age_in_days > 365 * 18\n",
    "heart_surgery_condition = Procedure(code='35.%').with_(min_age) | Procedure(code='36.1%').with_(min_age)"
   ]
  },
  {
   "cell_type": "code",
   "execution_count": null,
   "metadata": {
    "scrolled": true
   },
   "outputs": [],
   "source": [
    "heart_surgery_cohort = Cohort(heart_surgery_condition)"
   ]
  },
  {
   "cell_type": "code",
   "execution_count": null,
   "metadata": {
    "scrolled": false
   },
   "outputs": [],
   "source": [
    "len(heart_surgery_cohort)"
   ]
  },
  {
   "cell_type": "markdown",
   "metadata": {
    "slideshow": {
     "slide_type": "slide"
    }
   },
   "source": [
    "# Demographics"
   ]
  },
  {
   "cell_type": "code",
   "execution_count": null,
   "metadata": {},
   "outputs": [],
   "source": [
    "demographics = heart_surgery_cohort.demographics"
   ]
  },
  {
   "cell_type": "code",
   "execution_count": null,
   "metadata": {
    "scrolled": false,
    "slideshow": {
     "slide_type": "slide"
    }
   },
   "outputs": [],
   "source": [
    "demographics[\"age\"][\"figure\"]"
   ]
  },
  {
   "cell_type": "code",
   "execution_count": null,
   "metadata": {
    "scrolled": true,
    "slideshow": {
     "slide_type": "-"
    }
   },
   "outputs": [],
   "source": [
    "demographics[\"gender\"][\"figure\"]"
   ]
  },
  {
   "cell_type": "markdown",
   "metadata": {
    "slideshow": {
     "slide_type": "slide"
    }
   },
   "source": [
    "# Disease Onsets"
   ]
  },
  {
   "cell_type": "code",
   "execution_count": null,
   "metadata": {
    "scrolled": true
   },
   "outputs": [],
   "source": [
    "aki = heart_surgery_cohort.has_onset(\n",
    "    name=\"aki\",\n",
    "    condition=Diagnosis(code=\"584.9\", context=\"ICD-9\"), \n",
    "    time_deltas=[1, 7, 14, 28]\n",
    ")\n",
    "aki.head()"
   ]
  },
  {
   "cell_type": "code",
   "execution_count": null,
   "metadata": {},
   "outputs": [],
   "source": [
    "stroke = heart_surgery_cohort.has_onset(\n",
    "    name=\"stroke\",\n",
    "    condition=Diagnosis(code='433.%') | Diagnosis(code='434.%') | Diagnosis(code='436.%'), \n",
    "    time_deltas=[1, 7, 14, 28]\n",
    ")\n",
    "stroke.head()"
   ]
  },
  {
   "cell_type": "markdown",
   "metadata": {
    "slideshow": {
     "slide_type": "slide"
    }
   },
   "source": [
    "# Preconditions"
   ]
  },
  {
   "cell_type": "code",
   "execution_count": null,
   "metadata": {
    "scrolled": true
   },
   "outputs": [],
   "source": [
    "renal_failure = heart_surgery_cohort.has_precondition(\n",
    "    Diagnosis.from_condition_store(name=\"renal failure\")\n",
    ")\n",
    "renal_failure.head()"
   ]
  },
  {
   "cell_type": "code",
   "execution_count": null,
   "metadata": {},
   "outputs": [],
   "source": [
    "cardiac_arrhythmias = heart_surgery_cohort.has_precondition(\n",
    "    condition=Diagnosis.from_condition_store(name=\"cardiac arrhythmias\")\n",
    ")"
   ]
  },
  {
   "cell_type": "markdown",
   "metadata": {
    "slideshow": {
     "slide_type": "slide"
    }
   },
   "source": [
    "# ML-Ready DataFrames"
   ]
  },
  {
   "cell_type": "code",
   "execution_count": null,
   "metadata": {},
   "outputs": [],
   "source": [
    "df = heart_surgery_cohort.build_data(\n",
    "    cardiac_arrhythmias,\n",
    "    renal_failure,\n",
    "    stroke,\n",
    "    aki,\n",
    ")"
   ]
  },
  {
   "cell_type": "code",
   "execution_count": null,
   "metadata": {},
   "outputs": [],
   "source": [
    "VitalSign('Systolic Blood Pressure') & Drug('')"
   ]
  },
  {
   "cell_type": "code",
   "execution_count": null,
   "metadata": {},
   "outputs": [],
   "source": [
    "df.head(10)"
   ]
  },
  {
   "cell_type": "markdown",
   "metadata": {
    "slideshow": {
     "slide_type": "slide"
    }
   },
   "source": [
    "# Lab Values"
   ]
  },
  {
   "cell_type": "code",
   "execution_count": null,
   "metadata": {},
   "outputs": [],
   "source": [
    "lv_crea = LabValue(name=\"CREATININE-SERUM\")\n",
    "lv_troponin = LabValue(name=\"TROPONIN%I%\")"
   ]
  },
  {
   "cell_type": "code",
   "execution_count": null,
   "metadata": {},
   "outputs": [],
   "source": [
    "lv_creatinine_results = heart_surgery_cohort.results_for(lv_crea, before=heart_surgery_condition)\n",
    "lv_troponin_results = heart_surgery_cohort.results_for(lv_troponin, before=heart_surgery_condition)"
   ]
  },
  {
   "cell_type": "code",
   "execution_count": null,
   "metadata": {
    "slideshow": {
     "slide_type": "skip"
    }
   },
   "outputs": [],
   "source": [
    "lv_creatinine_results['develops_aki'] = lv_creatinine_results.medical_record_number.isin(df[df.aki_28_days].medical_record_number)\n",
    "lv_creatinine_results['develops_stroke'] = lv_creatinine_results.medical_record_number.isin(df[df.stroke_28_days].medical_record_number)\n",
    "\n",
    "lv_troponin_results['develops_aki'] = lv_troponin_results.medical_record_number.isin(df[df.aki_28_days].medical_record_number)\n",
    "lv_troponin_results['develops_stroke'] = lv_troponin_results.medical_record_number.isin(df[df.stroke_28_days].medical_record_number)"
   ]
  },
  {
   "cell_type": "code",
   "execution_count": null,
   "metadata": {
    "slideshow": {
     "slide_type": "skip"
    }
   },
   "outputs": [],
   "source": [
    "lv_creatinine_results = lv_creatinine_results[(lv_creatinine_results.numeric_value < 10) & (lv_creatinine_results.occurs_x_days_before < 10)]\n",
    "\n",
    "figure, axes = plt.subplots(2, 2, figsize=(7, 7), sharey=False)\n",
    "sns.distplot( lv_creatinine_results[lv_creatinine_results.develops_aki].numeric_value, color=\"red\", ax=axes[0, 0], hist=False)\n",
    "sns.distplot( lv_creatinine_results[lv_creatinine_results.develops_aki != True].numeric_value, color=\"skyblue\", ax=axes[0, 0], hist=False)\n",
    "sns.distplot( lv_creatinine_results[lv_creatinine_results.develops_stroke].numeric_value, color=\"red\", ax=axes[0, 1], hist=False)\n",
    "sns.distplot( lv_creatinine_results[lv_creatinine_results.develops_stroke != True].numeric_value, color=\"skyblue\", ax=axes[0, 1], hist=False)\n",
    "\n",
    "sns.distplot( lv_troponin_results[lv_troponin_results.develops_aki].numeric_value, color=\"red\", ax=axes[1, 0], hist=False)\n",
    "sns.distplot( lv_troponin_results[lv_troponin_results.develops_aki != True].numeric_value, color=\"skyblue\", ax=axes[1, 0], hist=False)\n",
    "sns.distplot( lv_troponin_results[lv_troponin_results.develops_stroke].numeric_value, color=\"red\", ax=axes[1, 1], hist=False)\n",
    "sns.distplot( lv_troponin_results[lv_troponin_results.develops_stroke != True].numeric_value, color=\"skyblue\", ax=axes[1, 1], hist=False)\n"
   ]
  },
  {
   "cell_type": "code",
   "execution_count": null,
   "metadata": {
    "scrolled": false
   },
   "outputs": [],
   "source": [
    "figure"
   ]
  },
  {
   "cell_type": "code",
   "execution_count": null,
   "metadata": {
    "slideshow": {
     "slide_type": "skip"
    }
   },
   "outputs": [],
   "source": [
    "_, bins = np.histogram(lv_troponin_results.numeric_value)\n",
    "g = sns.FacetGrid(lv_troponin_results, hue=\"develops_stroke\", height=4, aspect=1)\n",
    "g = g.map(sns.distplot, \"numeric_value\", bins=bins, hist=False, kde=True)"
   ]
  },
  {
   "cell_type": "code",
   "execution_count": null,
   "metadata": {},
   "outputs": [],
   "source": []
  }
 ],
 "metadata": {
  "celltoolbar": "Slideshow",
  "kernelspec": {
   "display_name": "Python 3",
   "language": "python",
   "name": "python3"
  },
  "language_info": {
   "codemirror_mode": {
    "name": "ipython",
    "version": 3
   },
   "file_extension": ".py",
   "mimetype": "text/x-python",
   "name": "python",
   "nbconvert_exporter": "python",
   "pygments_lexer": "ipython3",
   "version": "3.6.7"
  }
 },
 "nbformat": 4,
 "nbformat_minor": 2
}
