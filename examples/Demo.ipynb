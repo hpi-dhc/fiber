{
 "cells": [
  {
   "cell_type": "code",
   "execution_count": null,
   "metadata": {
    "scrolled": true
   },
   "outputs": [],
   "source": [
    "%load_ext autoreload\n",
    "%autoreload 2"
   ]
  },
  {
   "cell_type": "code",
   "execution_count": null,
   "metadata": {
    "scrolled": true,
    "slideshow": {
     "slide_type": "slide"
    }
   },
   "outputs": [],
   "source": [
    "import yaml\n",
    "import re\n",
    "\n",
    "import seaborn as sns\n",
    "import numpy as np\n",
    "import pandas as pd\n",
    "\n",
    "from functools import reduce\n",
    "\n",
    "from fiber.cohort import Cohort\n",
    "from fiber.condition import Procedure, Diagnosis, Drug, VitalSign, Patient\n",
    "from fiber.database.hana import engine, Session, print_sqla\n",
    "\n",
    "from fiber.database.table import fact"
   ]
  },
  {
   "cell_type": "markdown",
   "metadata": {},
   "source": [
    "# Cohort Definition"
   ]
  },
  {
   "cell_type": "code",
   "execution_count": null,
   "metadata": {
    "scrolled": false
   },
   "outputs": [],
   "source": [
    "min_age = Patient.age_in_days > 365 * 18\n",
    "heart_surgery_condition = Procedure(code='35.%').with_(min_age) | Procedure(code='36.1%').with_(min_age)"
   ]
  },
  {
   "cell_type": "code",
   "execution_count": null,
   "metadata": {
    "scrolled": true
   },
   "outputs": [],
   "source": [
    "heart_surgery_cohort = Cohort(heart_surgery_condition)"
   ]
  },
  {
   "cell_type": "code",
   "execution_count": null,
   "metadata": {
    "scrolled": false
   },
   "outputs": [],
   "source": [
    "len(heart_surgery_cohort)"
   ]
  },
  {
   "cell_type": "markdown",
   "metadata": {},
   "source": [
    "# Demographics"
   ]
  },
  {
   "cell_type": "code",
   "execution_count": null,
   "metadata": {
    "scrolled": true
   },
   "outputs": [],
   "source": [
    "demographics = heart_surgery_cohort.demographics"
   ]
  },
  {
   "cell_type": "code",
   "execution_count": null,
   "metadata": {
    "scrolled": false
   },
   "outputs": [],
   "source": [
    "demographics[\"age\"][\"figure\"]"
   ]
  },
  {
   "cell_type": "code",
   "execution_count": null,
   "metadata": {
    "scrolled": true
   },
   "outputs": [],
   "source": [
    "demographics[\"gender\"][\"figure\"]"
   ]
  },
  {
   "cell_type": "markdown",
   "metadata": {},
   "source": [
    "# Comorbidities"
   ]
  },
  {
   "cell_type": "code",
   "execution_count": null,
   "metadata": {
    "scrolled": true
   },
   "outputs": [],
   "source": [
    "aki = heart_surgery_cohort.has_onset(\n",
    "    name=\"aki\",\n",
    "    condition=Diagnosis(code=\"584.9\", context=\"ICD-9\"), \n",
    "    time_deltas=[1, 7, 14, 28]\n",
    ")\n",
    "aki.head()"
   ]
  },
  {
   "cell_type": "code",
   "execution_count": null,
   "metadata": {
    "scrolled": true
   },
   "outputs": [],
   "source": [
    "stroke = heart_surgery_cohort.has_onset(\n",
    "    name=\"stroke\",\n",
    "    condition=Diagnosis(code='433.%') | Diagnosis(code='434.%') | Diagnosis(code='436.%'), \n",
    "    time_deltas=[1, 7, 14, 28]\n",
    ")\n",
    "stroke.head()"
   ]
  },
  {
   "cell_type": "markdown",
   "metadata": {},
   "source": [
    "# Preconditions"
   ]
  },
  {
   "cell_type": "code",
   "execution_count": null,
   "metadata": {
    "scrolled": true
   },
   "outputs": [],
   "source": [
    "renal_failure_condition = Diagnosis.from_condition_store(name=\"renal failure\")\n",
    "\n",
    "renal_failure = heart_surgery_cohort.has_precondition(\n",
    "    name=\"renal_failure\",\n",
    "    condition=renal_failure_condition\n",
    ")\n",
    "renal_failure.head()"
   ]
  },
  {
   "cell_type": "code",
   "execution_count": null,
   "metadata": {
    "scrolled": true
   },
   "outputs": [],
   "source": [
    "cardiac_arrhythmias = heart_surgery_cohort.has_precondition(\n",
    "    name=\"cardiac_arrhythmias\",\n",
    "    condition=Diagnosis.from_condition_store(name=\"cardiac arrhythmias\")\n",
    ")"
   ]
  },
  {
   "cell_type": "markdown",
   "metadata": {},
   "source": [
    "# One dataframe to rule them all"
   ]
  },
  {
   "cell_type": "code",
   "execution_count": null,
   "metadata": {
    "scrolled": true
   },
   "outputs": [],
   "source": [
    "medical_record_numbers = pd.DataFrame(heart_surgery_cohort, columns=[\"medical_record_number\"])"
   ]
  },
  {
   "cell_type": "code",
   "execution_count": null,
   "metadata": {
    "scrolled": false
   },
   "outputs": [],
   "source": [
    "patient_data = heart_surgery_cohort.get(Patient())"
   ]
  },
  {
   "cell_type": "code",
   "execution_count": null,
   "metadata": {
    "scrolled": true
   },
   "outputs": [],
   "source": [
    "df = pd.concat([\n",
    "    medical_record_numbers,\n",
    "    patient_data.drop(columns=\"medical_record_number\"),\n",
    "    cardiac_arrhythmias.cardiac_arrhythmias,\n",
    "    renal_failure.renal_failure,\n",
    "    stroke.drop(columns=\"medical_record_number\"),\n",
    "    aki.drop(columns=\"medical_record_number\")\n",
    "], axis=1)"
   ]
  },
  {
   "cell_type": "code",
   "execution_count": null,
   "metadata": {
    "scrolled": true
   },
   "outputs": [],
   "source": [
    "df.tail(10)"
   ]
  },
  {
   "cell_type": "code",
   "execution_count": null,
   "metadata": {
    "scrolled": true
   },
   "outputs": [],
   "source": []
  },
  {
   "cell_type": "markdown",
   "metadata": {},
   "source": [
    "### Experimental"
   ]
  },
  {
   "cell_type": "code",
   "execution_count": null,
   "metadata": {
    "scrolled": true
   },
   "outputs": [],
   "source": [
    "crea = heart_surgery_cohort.lab_results_for('CREATININE-SERUM')"
   ]
  },
  {
   "cell_type": "code",
   "execution_count": null,
   "metadata": {
    "scrolled": true
   },
   "outputs": [],
   "source": [
    "crea['develops_aki'] = crea.MEDICAL_RECORD_NUMBER.isin(df[df.aki_28_days].medical_record_number)"
   ]
  },
  {
   "cell_type": "code",
   "execution_count": null,
   "metadata": {
    "scrolled": true
   },
   "outputs": [],
   "source": [
    "crea = crea[crea.VALUE < 10]\n",
    "\n",
    "_, bins = np.histogram(crea['VALUE'])\n",
    "g = sns.FacetGrid(crea, hue=\"develops_aki\", height=4, aspect=1)\n",
    "g = g.map(sns.distplot, \"VALUE\", bins=bins, hist=False)"
   ]
  }
 ],
 "metadata": {
  "kernelspec": {
   "display_name": "Python 3",
   "language": "python",
   "name": "python3"
  },
  "language_info": {
   "codemirror_mode": {
    "name": "ipython",
    "version": 3
   },
   "file_extension": ".py",
   "mimetype": "text/x-python",
   "name": "python",
   "nbconvert_exporter": "python",
   "pygments_lexer": "ipython3",
   "version": "3.6.5"
  }
 },
 "nbformat": 4,
 "nbformat_minor": 2
}
