{
 "cells": [
  {
   "cell_type": "code",
   "execution_count": null,
   "metadata": {
    "scrolled": true
   },
   "outputs": [],
   "source": [
    "%load_ext autoreload\n",
    "%autoreload 2"
   ]
  },
  {
   "cell_type": "code",
   "execution_count": null,
   "metadata": {},
   "outputs": [],
   "source": [
    "import pandas as pd\n",
    "\n",
    "from fiber import Cohort, INDEX\n",
    "from fiber.utils import Timer\n",
    "from fiber.condition import Procedure, MRNs, LabValue, VitalSign, Diagnosis, Drug\n",
    "from fiber.extensions import BINARY_PIVOT_CONFIG"
   ]
  },
  {
   "cell_type": "code",
   "execution_count": null,
   "metadata": {},
   "outputs": [],
   "source": [
    "heart_surgery_condition = (\n",
    "    Procedure(code='35.%', context='ICD-9').age(min_age=18) | \n",
    "    Procedure(code='36.1%', context='ICD-9').age(min_age=18)\n",
    ")\n",
    "hs_cohort = Cohort(heart_surgery_condition)"
   ]
  },
  {
   "cell_type": "code",
   "execution_count": null,
   "metadata": {
    "scrolled": false
   },
   "outputs": [],
   "source": [
    "df = hs_cohort.get_occurrences(heart_surgery_condition)"
   ]
  },
  {
   "cell_type": "code",
   "execution_count": null,
   "metadata": {},
   "outputs": [],
   "source": [
    "df.sort_values(INDEX, inplace=True)"
   ]
  },
  {
   "cell_type": "markdown",
   "metadata": {},
   "source": [
    "# Unsupervised test"
   ]
  },
  {
   "cell_type": "code",
   "execution_count": null,
   "metadata": {},
   "outputs": [],
   "source": [
    "benchmark_results = {}"
   ]
  },
  {
   "cell_type": "code",
   "execution_count": null,
   "metadata": {
    "scrolled": true
   },
   "outputs": [],
   "source": [
    "%%capture cap --no-stderr\n",
    "for limit in [100, 500, 1000, 5000, 10000, 15000, 20000, 25000]:\n",
    "    print(f'################    {limit}    ################')\n",
    "    mrn_cond = MRNs(mrns=df[:limit])\n",
    "    mrn_cohort = Cohort(mrn_cond)\n",
    "    with Timer() as t:\n",
    "        results = mrn_cohort.get_pivoted_features(window=[-10,10])\n",
    "    benchmark_results[str(limit)] = [results.copy(), t.elapsed]"
   ]
  },
  {
   "cell_type": "code",
   "execution_count": null,
   "metadata": {},
   "outputs": [],
   "source": [
    "# reproducible cell output, even if you reload the notebook (after any time)\n",
    "cap.show()"
   ]
  },
  {
   "cell_type": "code",
   "execution_count": null,
   "metadata": {
    "scrolled": true
   },
   "outputs": [],
   "source": [
    "measurements = []\n",
    "shapes = []\n",
    "size = []\n",
    "for limit, r in benchmark_results.items():\n",
    "    shapes.append(r[0].shape)\n",
    "    measurements.append((r[0].shape[0], r[1]))\n",
    "    size.append((r[0].shape[0], r[0].memory_usage(index=True, deep=True).sum()))"
   ]
  },
  {
   "cell_type": "code",
   "execution_count": null,
   "metadata": {
    "scrolled": true
   },
   "outputs": [],
   "source": [
    "runtimes = pd.DataFrame(measurements, columns=['# occurrences', 'runtime in s'])\n",
    "features = pd.DataFrame(shapes, columns=['# occurrences', '# features'])\n",
    "sizes = pd.DataFrame(size, columns=['# occurrences', 'memory consumption'])"
   ]
  },
  {
   "cell_type": "code",
   "execution_count": null,
   "metadata": {
    "scrolled": false
   },
   "outputs": [],
   "source": [
    "features.plot.line(x='# occurrences', y='# features')"
   ]
  },
  {
   "cell_type": "code",
   "execution_count": null,
   "metadata": {
    "scrolled": false
   },
   "outputs": [],
   "source": [
    "runtimes.plot.line(x='# occurrences', y='runtime in s')"
   ]
  },
  {
   "cell_type": "code",
   "execution_count": null,
   "metadata": {
    "scrolled": false
   },
   "outputs": [],
   "source": [
    "sizes.plot.line(x='# occurrences', y='memory consumption')"
   ]
  }
 ],
 "metadata": {
  "kernelspec": {
   "display_name": "Python 3",
   "language": "python",
   "name": "python3"
  },
  "language_info": {
   "codemirror_mode": {
    "name": "ipython",
    "version": 3
   },
   "file_extension": ".py",
   "mimetype": "text/x-python",
   "name": "python",
   "nbconvert_exporter": "python",
   "pygments_lexer": "ipython3",
   "version": "3.6.5"
  }
 },
 "nbformat": 4,
 "nbformat_minor": 2
}